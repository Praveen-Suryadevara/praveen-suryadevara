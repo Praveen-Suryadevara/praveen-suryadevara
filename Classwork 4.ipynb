{
 "cells": [
  {
   "cell_type": "markdown",
   "id": "540553da",
   "metadata": {},
   "source": [
    "# Sentiment Analysis"
   ]
  },
  {
   "cell_type": "markdown",
   "id": "233e7319",
   "metadata": {},
   "source": [
    "## Reading Datafile"
   ]
  },
  {
   "cell_type": "code",
   "execution_count": 1,
   "id": "6d9f3aff",
   "metadata": {},
   "outputs": [
    {
     "data": {
      "text/html": [
       "<div>\n",
       "<style scoped>\n",
       "    .dataframe tbody tr th:only-of-type {\n",
       "        vertical-align: middle;\n",
       "    }\n",
       "\n",
       "    .dataframe tbody tr th {\n",
       "        vertical-align: top;\n",
       "    }\n",
       "\n",
       "    .dataframe thead th {\n",
       "        text-align: right;\n",
       "    }\n",
       "</style>\n",
       "<table border=\"1\" class=\"dataframe\">\n",
       "  <thead>\n",
       "    <tr style=\"text-align: right;\">\n",
       "      <th></th>\n",
       "      <th>overall</th>\n",
       "      <th>verified</th>\n",
       "      <th>reviewerID</th>\n",
       "      <th>asin</th>\n",
       "      <th>reviewText</th>\n",
       "      <th>summary</th>\n",
       "    </tr>\n",
       "  </thead>\n",
       "  <tbody>\n",
       "    <tr>\n",
       "      <th>273245</th>\n",
       "      <td>5</td>\n",
       "      <td>True</td>\n",
       "      <td>A160EKD7FHGO5C</td>\n",
       "      <td>B009VWV480</td>\n",
       "      <td>This window wa a great addition to my crafts c...</td>\n",
       "      <td>Great!</td>\n",
       "    </tr>\n",
       "    <tr>\n",
       "      <th>237222</th>\n",
       "      <td>5</td>\n",
       "      <td>True</td>\n",
       "      <td>A2JTDO9IO9VTEJ</td>\n",
       "      <td>B005OLUU28</td>\n",
       "      <td>I Love It</td>\n",
       "      <td>Five Stars</td>\n",
       "    </tr>\n",
       "    <tr>\n",
       "      <th>368404</th>\n",
       "      <td>3</td>\n",
       "      <td>True</td>\n",
       "      <td>A9JZ0CPIZ4RI8</td>\n",
       "      <td>B00U820CSU</td>\n",
       "      <td>Took 6 coats to get it to cover well, was hopi...</td>\n",
       "      <td>Took 6 coats to get it to cover well, ...</td>\n",
       "    </tr>\n",
       "    <tr>\n",
       "      <th>216</th>\n",
       "      <td>3</td>\n",
       "      <td>False</td>\n",
       "      <td>AFM9UVZB5FLVB</td>\n",
       "      <td>1604681942</td>\n",
       "      <td>The shawls are very simplistic in this book......</td>\n",
       "      <td>It's a very simple basic shawl book</td>\n",
       "    </tr>\n",
       "    <tr>\n",
       "      <th>433773</th>\n",
       "      <td>5</td>\n",
       "      <td>True</td>\n",
       "      <td>A2E602KZSWJ1OM</td>\n",
       "      <td>B00266L3KM</td>\n",
       "      <td>I purchased this paint marker around a year ag...</td>\n",
       "      <td>A+</td>\n",
       "    </tr>\n",
       "    <tr>\n",
       "      <th>39093</th>\n",
       "      <td>5</td>\n",
       "      <td>True</td>\n",
       "      <td>A2B5RVOAEPEDLH</td>\n",
       "      <td>B000UU6SR4</td>\n",
       "      <td>First rate quality.  Action is smooth and they...</td>\n",
       "      <td>Excellent</td>\n",
       "    </tr>\n",
       "    <tr>\n",
       "      <th>287403</th>\n",
       "      <td>3</td>\n",
       "      <td>True</td>\n",
       "      <td>A2ACFL6E9Y7UV4</td>\n",
       "      <td>B00BOZ79UO</td>\n",
       "      <td>Not really for medium hands either. The pictur...</td>\n",
       "      <td>Not for small hands</td>\n",
       "    </tr>\n",
       "    <tr>\n",
       "      <th>69997</th>\n",
       "      <td>5</td>\n",
       "      <td>True</td>\n",
       "      <td>A3A6LQDLXEPYEE</td>\n",
       "      <td>B0013J8CGG</td>\n",
       "      <td>A useful tool.</td>\n",
       "      <td>needed</td>\n",
       "    </tr>\n",
       "    <tr>\n",
       "      <th>183002</th>\n",
       "      <td>5</td>\n",
       "      <td>False</td>\n",
       "      <td>AGRHRWMHPLX0W</td>\n",
       "      <td>B002JKUL4O</td>\n",
       "      <td>finally found them.</td>\n",
       "      <td>Five Stars</td>\n",
       "    </tr>\n",
       "    <tr>\n",
       "      <th>308503</th>\n",
       "      <td>4</td>\n",
       "      <td>True</td>\n",
       "      <td>A1REBHNUA6J5H5</td>\n",
       "      <td>B00EMRONMS</td>\n",
       "      <td>Have ordered before,always pleased.  Fit perfe...</td>\n",
       "      <td>Very nice</td>\n",
       "    </tr>\n",
       "  </tbody>\n",
       "</table>\n",
       "</div>"
      ],
      "text/plain": [
       "        overall  verified      reviewerID        asin  \\\n",
       "273245        5      True  A160EKD7FHGO5C  B009VWV480   \n",
       "237222        5      True  A2JTDO9IO9VTEJ  B005OLUU28   \n",
       "368404        3      True   A9JZ0CPIZ4RI8  B00U820CSU   \n",
       "216           3     False   AFM9UVZB5FLVB  1604681942   \n",
       "433773        5      True  A2E602KZSWJ1OM  B00266L3KM   \n",
       "39093         5      True  A2B5RVOAEPEDLH  B000UU6SR4   \n",
       "287403        3      True  A2ACFL6E9Y7UV4  B00BOZ79UO   \n",
       "69997         5      True  A3A6LQDLXEPYEE  B0013J8CGG   \n",
       "183002        5     False   AGRHRWMHPLX0W  B002JKUL4O   \n",
       "308503        4      True  A1REBHNUA6J5H5  B00EMRONMS   \n",
       "\n",
       "                                               reviewText  \\\n",
       "273245  This window wa a great addition to my crafts c...   \n",
       "237222                                          I Love It   \n",
       "368404  Took 6 coats to get it to cover well, was hopi...   \n",
       "216     The shawls are very simplistic in this book......   \n",
       "433773  I purchased this paint marker around a year ag...   \n",
       "39093   First rate quality.  Action is smooth and they...   \n",
       "287403  Not really for medium hands either. The pictur...   \n",
       "69997                                      A useful tool.   \n",
       "183002                                finally found them.   \n",
       "308503  Have ordered before,always pleased.  Fit perfe...   \n",
       "\n",
       "                                          summary  \n",
       "273245                                     Great!  \n",
       "237222                                 Five Stars  \n",
       "368404  Took 6 coats to get it to cover well, ...  \n",
       "216           It's a very simple basic shawl book  \n",
       "433773                                         A+  \n",
       "39093                                   Excellent  \n",
       "287403                        Not for small hands  \n",
       "69997                                      needed  \n",
       "183002                                 Five Stars  \n",
       "308503                                  Very nice  "
      ]
     },
     "execution_count": 1,
     "metadata": {},
     "output_type": "execute_result"
    }
   ],
   "source": [
    "import pandas as pd  #Importing pandas library \n",
    "file = \"C:/Users/prave/Downloads/Arts_Crafts_and_sewing_5.csv\" #reading a CSV file into a DataFrame\n",
    "df=pd.read_csv(file)\n",
    "df.sample(10) # Displaying a sample of 10 rows from the DataFrame"
   ]
  },
  {
   "cell_type": "markdown",
   "id": "ea74b8b9",
   "metadata": {},
   "source": [
    "## Installing Scikit-learn Package"
   ]
  },
  {
   "cell_type": "code",
   "execution_count": 2,
   "id": "d4af4c4c",
   "metadata": {},
   "outputs": [
    {
     "name": "stdout",
     "output_type": "stream",
     "text": [
      "Requirement already satisfied: scikit-learn in c:\\users\\prave\\anaconda3\\lib\\site-packages (1.3.0)\n",
      "Requirement already satisfied: numpy>=1.17.3 in c:\\users\\prave\\anaconda3\\lib\\site-packages (from scikit-learn) (1.24.3)\n",
      "Requirement already satisfied: scipy>=1.5.0 in c:\\users\\prave\\anaconda3\\lib\\site-packages (from scikit-learn) (1.11.1)\n",
      "Requirement already satisfied: joblib>=1.1.1 in c:\\users\\prave\\anaconda3\\lib\\site-packages (from scikit-learn) (1.2.0)\n",
      "Requirement already satisfied: threadpoolctl>=2.0.0 in c:\\users\\prave\\anaconda3\\lib\\site-packages (from scikit-learn) (2.2.0)\n"
     ]
    }
   ],
   "source": [
    "!pip install scikit-learn"
   ]
  },
  {
   "cell_type": "markdown",
   "id": "fe0d051b",
   "metadata": {},
   "source": [
    "## Exploring Opinion Lexicon in NLTK Library"
   ]
  },
  {
   "cell_type": "code",
   "execution_count": 3,
   "id": "c71b63d2",
   "metadata": {},
   "outputs": [
    {
     "name": "stdout",
     "output_type": "stream",
     "text": [
      "Total number of words in opinion lexicon 6789\n",
      "Examples of positive words in opinion lexicon ['a+', 'abound', 'abounds', 'abundance', 'abundant', 'accessable', 'accessible', 'acclaim', 'acclaimed', 'acclamation']\n",
      "Examples of negative words in opinion lexicon ['2-faced', '2-faces', 'abnormal', 'abolish', 'abominable', 'abominably', 'abominate', 'abomination', 'abort', 'aborted']\n"
     ]
    },
    {
     "name": "stderr",
     "output_type": "stream",
     "text": [
      "[nltk_data] Downloading package opinion_lexicon to\n",
      "[nltk_data]     C:\\Users\\prave\\AppData\\Roaming\\nltk_data...\n",
      "[nltk_data]   Package opinion_lexicon is already up-to-date!\n"
     ]
    }
   ],
   "source": [
    "from sklearn import preprocessing #Importing preprocessing module from sklearn\n",
    "import nltk #Importing Natural Language Toolkit library \n",
    "nltk.download('opinion_lexicon')#Downloading the opinion lexicon dataset from NLTK\n",
    "from nltk.corpus import opinion_lexicon#Importing the opinion_lexicon corpus, which contains positive&negative opinion words\n",
    "from nltk.tokenize import word_tokenize#Importing word_tokenize function, which is used for tokenizing words\n",
    "\n",
    "print('Total number of words in opinion lexicon', len(opinion_lexicon.words()))#Printing total no of words in opinion lexicon\n",
    "print('Examples of positive words in opinion lexicon',\n",
    "      opinion_lexicon.positive()[:10]) # Printing examples of positive words in the opinion lexicon\n",
    "print('Examples of negative words in opinion lexicon',\n",
    "      opinion_lexicon.negative()[:10]) # Printing examples of negative words in the opinion lexicon\n"
   ]
  },
  {
   "cell_type": "markdown",
   "id": "c6b957f0",
   "metadata": {},
   "source": [
    "## Creation of Dictionary for Sentiment Analysis "
   ]
  },
  {
   "cell_type": "code",
   "execution_count": 4,
   "id": "72d48f0f",
   "metadata": {},
   "outputs": [
    {
     "name": "stderr",
     "output_type": "stream",
     "text": [
      "[nltk_data] Downloading package punkt to\n",
      "[nltk_data]     C:\\Users\\prave\\AppData\\Roaming\\nltk_data...\n",
      "[nltk_data]   Package punkt is already up-to-date!\n"
     ]
    }
   ],
   "source": [
    "# Let's create a dictionary which we can use for scoring our review text\n",
    "\n",
    "# Downloading punkt from NLTK library\n",
    "nltk.download('punkt')\n",
    "\n",
    "# Renaming the column 'reviewText' to 'text' in the DataFrame\n",
    "df.rename(columns={\"reviewText\": \"text\"}, inplace=True)\n",
    "\n",
    "# Assigning positive and negative scores\n",
    "pos_score = 1\n",
    "neg_score = -1\n",
    "\n",
    "# Initializing an empty dictionary\n",
    "word_dict = {}\n",
    " \n",
    "# Adding the positive words to the dictionary\n",
    "for word in opinion_lexicon.positive():\n",
    "        word_dict[word] = pos_score\n",
    "      \n",
    "# Adding the negative words to the dictionary\n",
    "for word in opinion_lexicon.negative():\n",
    "        word_dict[word] = neg_score"
   ]
  },
  {
   "cell_type": "markdown",
   "id": "0f9a78db",
   "metadata": {},
   "source": [
    "## Calculating Sentiment Score with Bing Liu Lexicon"
   ]
  },
  {
   "cell_type": "code",
   "execution_count": 5,
   "id": "e659472f",
   "metadata": {},
   "outputs": [],
   "source": [
    "#Creating a fuunction text\n",
    "def bing_liu_score(text):\n",
    "    #Initializing the sentiment score\n",
    "    sentiment_score = 0\n",
    "    #Tokenizing the input text into words and convert them to lowercase\n",
    "    bag_of_words = word_tokenize(text.lower())\n",
    "     # creating loop to check each word in the bag of words\n",
    "    for word in bag_of_words:\n",
    "        #Checking if the word exists in the sentiment dictionary\n",
    "        if word in word_dict:\n",
    "            # If the word exist, adding its sentiment score to the sentiment score\n",
    "            sentiment_score += word_dict[word]\n",
    "    return sentiment_score  #Returning the sentiment score for the text"
   ]
  },
  {
   "cell_type": "code",
   "execution_count": 10,
   "id": "bb4c3b12",
   "metadata": {},
   "outputs": [],
   "source": [
    "# Fill NaN values in the 'text' column\n",
    "df['text'].fillna('no review', inplace=True)\n",
    "#creating new column 'Bing_Liu_Score' to store the scores by applying  bing_liu_score to calculate sentiment scores for each text\n",
    "df['Bing_Liu_Score'] = df['text'].apply(bing_liu_score)"
   ]
  },
  {
   "cell_type": "code",
   "execution_count": 11,
   "id": "3cac0eeb",
   "metadata": {},
   "outputs": [
    {
     "data": {
      "text/html": [
       "<div>\n",
       "<style scoped>\n",
       "    .dataframe tbody tr th:only-of-type {\n",
       "        vertical-align: middle;\n",
       "    }\n",
       "\n",
       "    .dataframe tbody tr th {\n",
       "        vertical-align: top;\n",
       "    }\n",
       "\n",
       "    .dataframe thead th {\n",
       "        text-align: right;\n",
       "    }\n",
       "</style>\n",
       "<table border=\"1\" class=\"dataframe\">\n",
       "  <thead>\n",
       "    <tr style=\"text-align: right;\">\n",
       "      <th></th>\n",
       "      <th>overall</th>\n",
       "      <th>text</th>\n",
       "      <th>Bing_Liu_Score</th>\n",
       "    </tr>\n",
       "  </thead>\n",
       "  <tbody>\n",
       "    <tr>\n",
       "      <th>0</th>\n",
       "      <td>4</td>\n",
       "      <td>Contains some interesting stitches.</td>\n",
       "      <td>1</td>\n",
       "    </tr>\n",
       "    <tr>\n",
       "      <th>1</th>\n",
       "      <td>5</td>\n",
       "      <td>I'm a fairly experienced knitter of the one-co...</td>\n",
       "      <td>22</td>\n",
       "    </tr>\n",
       "    <tr>\n",
       "      <th>2</th>\n",
       "      <td>4</td>\n",
       "      <td>Great book but the index is terrible. Had to w...</td>\n",
       "      <td>0</td>\n",
       "    </tr>\n",
       "    <tr>\n",
       "      <th>3</th>\n",
       "      <td>5</td>\n",
       "      <td>I purchased the Kindle edition which is incred...</td>\n",
       "      <td>4</td>\n",
       "    </tr>\n",
       "    <tr>\n",
       "      <th>4</th>\n",
       "      <td>5</td>\n",
       "      <td>Very well laid out and very easy to read.\\n\\nT...</td>\n",
       "      <td>5</td>\n",
       "    </tr>\n",
       "    <tr>\n",
       "      <th>5</th>\n",
       "      <td>5</td>\n",
       "      <td>Beginning her career as a freelance knitter, M...</td>\n",
       "      <td>15</td>\n",
       "    </tr>\n",
       "    <tr>\n",
       "      <th>6</th>\n",
       "      <td>5</td>\n",
       "      <td>This is a terrific stitch handbook (and I have...</td>\n",
       "      <td>9</td>\n",
       "    </tr>\n",
       "    <tr>\n",
       "      <th>7</th>\n",
       "      <td>4</td>\n",
       "      <td>The book needs to be coil bound. The content i...</td>\n",
       "      <td>1</td>\n",
       "    </tr>\n",
       "    <tr>\n",
       "      <th>8</th>\n",
       "      <td>5</td>\n",
       "      <td>I really am enjoying this book! I like the siz...</td>\n",
       "      <td>12</td>\n",
       "    </tr>\n",
       "    <tr>\n",
       "      <th>9</th>\n",
       "      <td>5</td>\n",
       "      <td>Just received this book and looked over it cov...</td>\n",
       "      <td>6</td>\n",
       "    </tr>\n",
       "  </tbody>\n",
       "</table>\n",
       "</div>"
      ],
      "text/plain": [
       "   overall                                               text  Bing_Liu_Score\n",
       "0        4                Contains some interesting stitches.               1\n",
       "1        5  I'm a fairly experienced knitter of the one-co...              22\n",
       "2        4  Great book but the index is terrible. Had to w...               0\n",
       "3        5  I purchased the Kindle edition which is incred...               4\n",
       "4        5  Very well laid out and very easy to read.\\n\\nT...               5\n",
       "5        5  Beginning her career as a freelance knitter, M...              15\n",
       "6        5  This is a terrific stitch handbook (and I have...               9\n",
       "7        4  The book needs to be coil bound. The content i...               1\n",
       "8        5  I really am enjoying this book! I like the siz...              12\n",
       "9        5  Just received this book and looked over it cov...               6"
      ]
     },
     "execution_count": 11,
     "metadata": {},
     "output_type": "execute_result"
    }
   ],
   "source": [
    "# Displaying the first 10 rows of the DataFrame with few columns\n",
    "df[['overall',\"text\", 'Bing_Liu_Score']].head(10)"
   ]
  },
  {
   "cell_type": "code",
   "execution_count": 12,
   "id": "55854899",
   "metadata": {},
   "outputs": [
    {
     "data": {
      "text/html": [
       "<div>\n",
       "<style scoped>\n",
       "    .dataframe tbody tr th:only-of-type {\n",
       "        vertical-align: middle;\n",
       "    }\n",
       "\n",
       "    .dataframe tbody tr th {\n",
       "        vertical-align: top;\n",
       "    }\n",
       "\n",
       "    .dataframe thead th {\n",
       "        text-align: right;\n",
       "    }\n",
       "</style>\n",
       "<table border=\"1\" class=\"dataframe\">\n",
       "  <thead>\n",
       "    <tr style=\"text-align: right;\">\n",
       "      <th></th>\n",
       "      <th>Bing_Liu_Score</th>\n",
       "    </tr>\n",
       "    <tr>\n",
       "      <th>overall</th>\n",
       "      <th></th>\n",
       "    </tr>\n",
       "  </thead>\n",
       "  <tbody>\n",
       "    <tr>\n",
       "      <th>1</th>\n",
       "      <td>-0.255049</td>\n",
       "    </tr>\n",
       "    <tr>\n",
       "      <th>2</th>\n",
       "      <td>0.566098</td>\n",
       "    </tr>\n",
       "    <tr>\n",
       "      <th>3</th>\n",
       "      <td>1.158796</td>\n",
       "    </tr>\n",
       "    <tr>\n",
       "      <th>4</th>\n",
       "      <td>2.027999</td>\n",
       "    </tr>\n",
       "    <tr>\n",
       "      <th>5</th>\n",
       "      <td>2.129986</td>\n",
       "    </tr>\n",
       "  </tbody>\n",
       "</table>\n",
       "</div>"
      ],
      "text/plain": [
       "         Bing_Liu_Score\n",
       "overall                \n",
       "1             -0.255049\n",
       "2              0.566098\n",
       "3              1.158796\n",
       "4              2.027999\n",
       "5              2.129986"
      ]
     },
     "execution_count": 12,
     "metadata": {},
     "output_type": "execute_result"
    }
   ],
   "source": [
    "# Grouping 'overall' rating and calculating the mean sentiment score using the Bing Liu Lexicon\n",
    "df.groupby('overall').agg({'Bing_Liu_Score':'mean'})"
   ]
  }
 ],
 "metadata": {
  "kernelspec": {
   "display_name": "Python 3 (ipykernel)",
   "language": "python",
   "name": "python3"
  },
  "language_info": {
   "codemirror_mode": {
    "name": "ipython",
    "version": 3
   },
   "file_extension": ".py",
   "mimetype": "text/x-python",
   "name": "python",
   "nbconvert_exporter": "python",
   "pygments_lexer": "ipython3",
   "version": "3.11.5"
  }
 },
 "nbformat": 4,
 "nbformat_minor": 5
}

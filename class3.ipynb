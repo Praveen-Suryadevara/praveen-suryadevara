{
 "cells": [
  {
   "cell_type": "markdown",
   "id": "9a385ad7",
   "metadata": {
    "scrolled": true
   },
   "source": [
    "# Installation"
   ]
  },
  {
   "cell_type": "code",
   "execution_count": 6,
   "id": "e8ab6b2a",
   "metadata": {},
   "outputs": [
    {
     "name": "stdout",
     "output_type": "stream",
     "text": [
      "Requirement already satisfied: praw in c:\\users\\prave\\anaconda3\\lib\\site-packages (7.7.1)\n",
      "Requirement already satisfied: prawcore<3,>=2.1 in c:\\users\\prave\\anaconda3\\lib\\site-packages (from praw) (2.4.0)\n",
      "Requirement already satisfied: update-checker>=0.18 in c:\\users\\prave\\anaconda3\\lib\\site-packages (from praw) (0.18.0)\n",
      "Requirement already satisfied: websocket-client>=0.54.0 in c:\\users\\prave\\anaconda3\\lib\\site-packages (from praw) (0.58.0)\n",
      "Requirement already satisfied: requests<3.0,>=2.6.0 in c:\\users\\prave\\anaconda3\\lib\\site-packages (from prawcore<3,>=2.1->praw) (2.31.0)\n",
      "Requirement already satisfied: six in c:\\users\\prave\\anaconda3\\lib\\site-packages (from websocket-client>=0.54.0->praw) (1.16.0)\n",
      "Requirement already satisfied: charset-normalizer<4,>=2 in c:\\users\\prave\\anaconda3\\lib\\site-packages (from requests<3.0,>=2.6.0->prawcore<3,>=2.1->praw) (2.0.4)\n",
      "Requirement already satisfied: idna<4,>=2.5 in c:\\users\\prave\\anaconda3\\lib\\site-packages (from requests<3.0,>=2.6.0->prawcore<3,>=2.1->praw) (3.4)\n",
      "Requirement already satisfied: urllib3<3,>=1.21.1 in c:\\users\\prave\\anaconda3\\lib\\site-packages (from requests<3.0,>=2.6.0->prawcore<3,>=2.1->praw) (1.26.16)\n",
      "Requirement already satisfied: certifi>=2017.4.17 in c:\\users\\prave\\anaconda3\\lib\\site-packages (from requests<3.0,>=2.6.0->prawcore<3,>=2.1->praw) (2023.7.22)\n"
     ]
    }
   ],
   "source": [
    "!pip install praw"
   ]
  },
  {
   "cell_type": "markdown",
   "id": "8363e88e",
   "metadata": {},
   "source": [
    "# Importing and Collecting Data"
   ]
  },
  {
   "cell_type": "code",
   "execution_count": 2,
   "id": "00a13227",
   "metadata": {},
   "outputs": [],
   "source": [
    "import praw # Importing Praw \n",
    "user_agent = \"Reddit_Scrapper 1.0 by /u/FeatureChoice5036\" \n",
    "reddit = praw.Reddit( client_id=\"ItljJS-EvRTfer-u8wPRug\",\n",
    "                     client_secret=\"mCiLfac0NlLQVOof9rf75y6xR7DGmg\",\n",
    "                     user_agent=user_agent ) # The keys are collected from the reddit developer platform"
   ]
  },
  {
   "cell_type": "code",
   "execution_count": 5,
   "id": "96f1e4f6",
   "metadata": {},
   "outputs": [],
   "source": [
    "import pandas as pd # Importing pandas\n",
    "import numpy as np  # Importing numpy\n",
    "import re #RegEx : Regular expression"
   ]
  },
  {
   "cell_type": "markdown",
   "id": "c55d6409",
   "metadata": {},
   "source": [
    "# Execution of Code with a instance"
   ]
  },
  {
   "cell_type": "code",
   "execution_count": 4,
   "id": "cd80efc5",
   "metadata": {},
   "outputs": [
    {
     "name": "stdout",
     "output_type": "stream",
     "text": [
      "Bitcoin Newcomers FAQ - Please read!\n",
      "16bm9de\n",
      "BitcoinFan7\n",
      "1694011779.0\n",
      "197\n",
      "0.94\n",
      "https://www.reddit.com/r/Bitcoin/comments/16bm9de/bitcoin_newcomers_faq_please_read/\n",
      "0\n"
     ]
    }
   ],
   "source": [
    "# Hot new rising topics\n",
    "\n",
    "headlines = set()\n",
    "for submission in reddit.subreddit(\"bitcoin\").hot(limit=None):\n",
    "    print(submission.title)#Subreddit Title\n",
    "    print(submission.id) #ID\n",
    "    print(submission.author) #Author of the subreddit\n",
    "    print(submission.created_utc) #Date and time being created\n",
    "    print(submission.score) # Average Score\n",
    "    print(submission.upvote_ratio) # Upvote ratio\n",
    "    print(submission.url) # Like to the Subreddit\n",
    "    break\n",
    "    headlines.add(submission.title)\n",
    "print(len(headlines))"
   ]
  }
 ],
 "metadata": {
  "kernelspec": {
   "display_name": "Python 3 (ipykernel)",
   "language": "python",
   "name": "python3"
  },
  "language_info": {
   "codemirror_mode": {
    "name": "ipython",
    "version": 3
   },
   "file_extension": ".py",
   "mimetype": "text/x-python",
   "name": "python",
   "nbconvert_exporter": "python",
   "pygments_lexer": "ipython3",
   "version": "3.11.5"
  }
 },
 "nbformat": 4,
 "nbformat_minor": 5
}

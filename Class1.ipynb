{
 "cells": [
  {
   "cell_type": "code",
   "execution_count": 1,
   "id": "47c72e37",
   "metadata": {},
   "outputs": [
    {
     "name": "stdout",
     "output_type": "stream",
     "text": [
      "LLO\n"
     ]
    }
   ],
   "source": [
    "#printing characters of a string based on index \n",
    "b=\"HELLO wORLD\"\n",
    "print(b[5])\n"
   ]
  },
  {
   "cell_type": "code",
   "execution_count": 3,
   "id": "9642c5f4",
   "metadata": {
    "scrolled": true
   },
   "outputs": [
    {
     "name": "stdout",
     "output_type": "stream",
     "text": [
      "11\n",
      "HELLO WORLD\n",
      "hello world\n",
      "JELLO wORLD\n"
     ]
    }
   ],
   "source": [
    "\n",
    "c=\"HELLO wORLD\"\n",
    "print(len(c)) #Prints length of the string\n",
    "print(c.upper()) #Converts the string to upper case\n",
    "print(c.lower()) #Converts the string to lower case\n",
    "print(c.replace(\"H\",\"J\")) #Replace the alphabet with another\n",
    "      "
   ]
  },
  {
   "cell_type": "code",
   "execution_count": 4,
   "id": "8643406a",
   "metadata": {},
   "outputs": [
    {
     "name": "stdout",
     "output_type": "stream",
     "text": [
      "HelloWorld\n"
     ]
    }
   ],
   "source": [
    "// Write a program for concatenation\n",
    "a=\"Hello\"\n",
    "b=\"World\"\n",
    "c=a+\"\"+b\n",
    "print(c)"
   ]
  },
  {
   "cell_type": "code",
   "execution_count": 5,
   "id": "d02bf2d5",
   "metadata": {},
   "outputs": [
    {
     "data": {
      "text/plain": [
       "['one', 'two', 'three', 'four']"
      ]
     },
     "execution_count": 5,
     "metadata": {},
     "output_type": "execute_result"
    }
   ],
   "source": [
    "\n",
    "Naga='one two three four'\n",
    "list_1=Naga.split() #Spliting and printing the string with ''\n",
    "list_1\n"
   ]
  },
  {
   "cell_type": "code",
   "execution_count": 6,
   "id": "74cacb91",
   "metadata": {},
   "outputs": [
    {
     "data": {
      "text/plain": [
       "['1', '2', '3', '4']"
      ]
     },
     "execution_count": 6,
     "metadata": {},
     "output_type": "execute_result"
    }
   ],
   "source": [
    "\n",
    "Naga='1/2/3/4'\n",
    "list_1=Naga.split('/') ##Spliting and printing the string with '/'\n",
    "list_1"
   ]
  },
  {
   "cell_type": "code",
   "execution_count": 7,
   "id": "b8b1b871",
   "metadata": {},
   "outputs": [
    {
     "data": {
      "text/plain": [
       "['1', '2', '3', '4']"
      ]
     },
     "execution_count": 7,
     "metadata": {},
     "output_type": "execute_result"
    }
   ],
   "source": [
    "\n",
    "Naga='1:2:3:4'\n",
    "list_1=Naga.split(':') ##Spliting and printing the string with ':'\n",
    "list_1"
   ]
  },
  {
   "cell_type": "code",
   "execution_count": 8,
   "id": "41fb6b28",
   "metadata": {},
   "outputs": [
    {
     "data": {
      "text/plain": [
       "['peach', 'raspberry', 'strawberry', 'vanilla']"
      ]
     },
     "execution_count": 8,
     "metadata": {},
     "output_type": "execute_result"
    }
   ],
   "source": [
    "\n",
    "Ven='peach raspberry strawberry vanilla'\n",
    "list_2=Ven.split() #Spliting and printing the string with ''\n",
    "list_2"
   ]
  },
  {
   "cell_type": "code",
   "execution_count": 9,
   "id": "30a389d6",
   "metadata": {},
   "outputs": [
    {
     "data": {
      "text/plain": [
       "['peach', 'raspberry', 'strawberry', 'vanilla']"
      ]
     },
     "execution_count": 9,
     "metadata": {},
     "output_type": "execute_result"
    }
   ],
   "source": [
    "\n",
    "Ven='peach.raspberry.strawberry.vanilla'\n",
    "list_2=Ven.split('.') ##Spliting and printing the string with .\n",
    "list_2"
   ]
  },
  {
   "cell_type": "code",
   "execution_count": 10,
   "id": "f0cd6cc4",
   "metadata": {},
   "outputs": [
    {
     "data": {
      "text/plain": [
       "['17', '92', '81', '12', '46', '5']"
      ]
     },
     "execution_count": 10,
     "metadata": {},
     "output_type": "execute_result"
    }
   ],
   "source": [
    "\n",
    "surya='17;92;81;12;46;5'\n",
    "list_3=surya.split(';') #Spliting and printing the string with ;\n",
    "list_3"
   ]
  },
  {
   "cell_type": "code",
   "execution_count": 11,
   "id": "a684d29f",
   "metadata": {},
   "outputs": [
    {
     "name": "stdout",
     "output_type": "stream",
     "text": [
      "hello world\n"
     ]
    }
   ],
   "source": [
    "\n",
    "ven='Hello World'\n",
    "print(ven.lower())  #Replaces with lower case"
   ]
  },
  {
   "cell_type": "code",
   "execution_count": 13,
   "id": "df583b7f",
   "metadata": {},
   "outputs": [
    {
     "data": {
      "text/plain": [
       "'Hello World'"
      ]
     },
     "execution_count": 13,
     "metadata": {},
     "output_type": "execute_result"
    }
   ],
   "source": [
    "\n",
    "ven='    Hello World'\n",
    "ven.lstrip() #Remove all the leading characters"
   ]
  },
  {
   "cell_type": "code",
   "execution_count": 14,
   "id": "e882b6e9",
   "metadata": {},
   "outputs": [
    {
     "data": {
      "text/plain": [
       "'Hello World'"
      ]
     },
     "execution_count": 14,
     "metadata": {},
     "output_type": "execute_result"
    }
   ],
   "source": [
    "\n",
    "ven='Hello World     '\n",
    "ven.rstrip()  #Remove all the right leading characters"
   ]
  },
  {
   "cell_type": "code",
   "execution_count": 15,
   "id": "faa860d0",
   "metadata": {},
   "outputs": [
    {
     "data": {
      "text/plain": [
       "False"
      ]
     },
     "execution_count": 15,
     "metadata": {},
     "output_type": "execute_result"
    }
   ],
   "source": [
    "\n",
    "ven='Hello World'\n",
    "ven.isalnum() #Checking for both numbers and alphabets"
   ]
  },
  {
   "cell_type": "code",
   "execution_count": 16,
   "id": "248bed9f",
   "metadata": {},
   "outputs": [
    {
     "data": {
      "text/plain": [
       "False"
      ]
     },
     "execution_count": 16,
     "metadata": {},
     "output_type": "execute_result"
    }
   ],
   "source": [
    "\n",
    "ven='Hello World'\n",
    "ven.isalpha() #checking for alphabets"
   ]
  },
  {
   "cell_type": "code",
   "execution_count": 18,
   "id": "55df8c64",
   "metadata": {},
   "outputs": [
    {
     "data": {
      "text/plain": [
       "True"
      ]
     },
     "execution_count": 18,
     "metadata": {},
     "output_type": "execute_result"
    }
   ],
   "source": [
    "\n",
    "ven='1'\n",
    "ven.isdigit() #checking for numbers"
   ]
  },
  {
   "cell_type": "code",
   "execution_count": 19,
   "id": "33c07861",
   "metadata": {},
   "outputs": [
    {
     "data": {
      "text/plain": [
       "False"
      ]
     },
     "execution_count": 19,
     "metadata": {},
     "output_type": "execute_result"
    }
   ],
   "source": [
    "\n",
    "ven='Hello World'\n",
    "ven.islower() #Checking for the lower case"
   ]
  },
  {
   "cell_type": "code",
   "execution_count": null,
   "id": "2aae9a9e",
   "metadata": {},
   "outputs": [
    {
     "data": {
      "text/plain": [
       "True"
      ]
     },
     "execution_count": 21,
     "metadata": {},
     "output_type": "execute_result"
    }
   ],
   "source": [
    "\n",
    "ven='HELLO WORLD'\n",
    "ven.isupper() #Checking for upper case"
   ]
  },
  {
   "cell_type": "code",
   "execution_count": null,
   "id": "cd9d42de",
   "metadata": {},
   "outputs": [
    {
     "data": {
      "text/plain": [
       "False"
      ]
     },
     "execution_count": 24,
     "metadata": {},
     "output_type": "execute_result"
    }
   ],
   "source": [
    "\n",
    "ven=' Hello   World '\n",
    "ven.isspace() #checking for spaces\n"
   ]
  }
 ],
 "metadata": {
  "kernelspec": {
   "display_name": "Python 3 (ipykernel)",
   "language": "python",
   "name": "python3"
  },
  "language_info": {
   "codemirror_mode": {
    "name": "ipython",
    "version": 3
   },
   "file_extension": ".py",
   "mimetype": "text/x-python",
   "name": "python",
   "nbconvert_exporter": "python",
   "pygments_lexer": "ipython3",
   "version": "3.11.5"
  }
 },
 "nbformat": 4,
 "nbformat_minor": 5
}

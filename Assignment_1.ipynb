{
 "cells": [
  {
   "cell_type": "markdown",
   "id": "e54b1698",
   "metadata": {},
   "source": [
    "# Basic String Operations"
   ]
  },
  {
   "cell_type": "code",
   "execution_count": 1,
   "id": "fd0cc08f",
   "metadata": {},
   "outputs": [
    {
     "name": "stdout",
     "output_type": "stream",
     "text": [
      "Praveen\n"
     ]
    }
   ],
   "source": [
    "# printing the string a\n",
    "a=\"Praveen\"\n",
    "print(a)"
   ]
  },
  {
   "cell_type": "markdown",
   "id": "b7a98b24",
   "metadata": {},
   "source": [
    "## Capitalization Operation"
   ]
  },
  {
   "cell_type": "code",
   "execution_count": 2,
   "id": "a702f796",
   "metadata": {},
   "outputs": [
    {
     "name": "stdout",
     "output_type": "stream",
     "text": [
      "Suryadevara\n"
     ]
    }
   ],
   "source": [
    "str = \"suryadevara\"\n",
    "x = str.capitalize() # Turns Firts Element into Capital.\n",
    "print (x)"
   ]
  },
  {
   "cell_type": "markdown",
   "id": "51dab3ba",
   "metadata": {},
   "source": [
    "## Count Operation"
   ]
  },
  {
   "cell_type": "code",
   "execution_count": 3,
   "id": "868be617",
   "metadata": {},
   "outputs": [
    {
     "name": "stdout",
     "output_type": "stream",
     "text": [
      "3\n"
     ]
    }
   ],
   "source": [
    "str = \"Suryadevara\"\n",
    "x = str.count(\"a\") # Counting a in string\n",
    "print(x)"
   ]
  },
  {
   "cell_type": "markdown",
   "id": "8c483abf",
   "metadata": {},
   "source": [
    "## Slice Operation"
   ]
  },
  {
   "cell_type": "code",
   "execution_count": 4,
   "id": "7dec699b",
   "metadata": {},
   "outputs": [
    {
     "name": "stdout",
     "output_type": "stream",
     "text": [
      "v\n",
      "ryadeva\n"
     ]
    }
   ],
   "source": [
    "# spliting string a by indexes\n",
    "a=\"Praveen\"\n",
    "print(a[3])\n",
    "b=\"suryadevara\"\n",
    "print(b[2:9])"
   ]
  },
  {
   "cell_type": "markdown",
   "id": "395c7e63",
   "metadata": {},
   "source": [
    "## Endswith Operation"
   ]
  },
  {
   "cell_type": "code",
   "execution_count": 5,
   "id": "3a8e9d68",
   "metadata": {},
   "outputs": [
    {
     "name": "stdout",
     "output_type": "stream",
     "text": [
      "False\n"
     ]
    }
   ],
   "source": [
    "str = \"praveen\"\n",
    "x = str.endswith(\"ct\") # checking if String ends With 'ct'\n",
    "print(x)"
   ]
  },
  {
   "cell_type": "markdown",
   "id": "778d24f5",
   "metadata": {},
   "source": [
    "# Length, Uppercase, Lowercase, Replace Operations on String"
   ]
  },
  {
   "cell_type": "code",
   "execution_count": 6,
   "id": "c43b1866",
   "metadata": {},
   "outputs": [
    {
     "name": "stdout",
     "output_type": "stream",
     "text": [
      "11\n",
      "SURYADEVARA\n",
      "suryadevara\n",
      "suryadevara\n"
     ]
    }
   ],
   "source": [
    "# applying length, upper, lower, replace functions on string a\n",
    "a=\"suryadevara\"\n",
    "print(len(a))\n",
    "print(a.upper())\n",
    "print(a.lower())\n",
    "print(a.replace(\"H\",\"J\"))"
   ]
  },
  {
   "cell_type": "markdown",
   "id": "00076470",
   "metadata": {},
   "source": [
    "## String Concatenation"
   ]
  },
  {
   "cell_type": "code",
   "execution_count": 7,
   "id": "89318eb2",
   "metadata": {},
   "outputs": [
    {
     "data": {
      "text/plain": [
       "'praveen suryadevara'"
      ]
     },
     "execution_count": 7,
     "metadata": {},
     "output_type": "execute_result"
    }
   ],
   "source": [
    "# concating the string a and b to c\n",
    "a=\"praveen\"\n",
    "b=\"suryadevara\"\n",
    "c=a+\" \"+b\n",
    "c"
   ]
  },
  {
   "cell_type": "markdown",
   "id": "a38fc457",
   "metadata": {},
   "source": [
    "## Title Operation"
   ]
  },
  {
   "cell_type": "code",
   "execution_count": 8,
   "id": "c79a6652",
   "metadata": {},
   "outputs": [
    {
     "name": "stdout",
     "output_type": "stream",
     "text": [
      "Praveen Suryadevara\n"
     ]
    }
   ],
   "source": [
    "y = \"praveen suryadevara\"\n",
    "x = y.title() # Changes the First Letter of Every Word into Upper Case.\n",
    "print(x)"
   ]
  },
  {
   "cell_type": "markdown",
   "id": "34bbf095",
   "metadata": {},
   "source": [
    "## Count Operation"
   ]
  },
  {
   "cell_type": "code",
   "execution_count": 9,
   "id": "4da79df7",
   "metadata": {},
   "outputs": [
    {
     "name": "stdout",
     "output_type": "stream",
     "text": [
      "2\n"
     ]
    }
   ],
   "source": [
    "str = \"praveen suryadevara, venkata naga sai praveen\"\n",
    "x = str.count(\"praveen\") # returns the number of occurrences of a substring in the string.\n",
    "print(x)"
   ]
  },
  {
   "cell_type": "markdown",
   "id": "275f7770",
   "metadata": {},
   "source": [
    "## Center Operation"
   ]
  },
  {
   "cell_type": "code",
   "execution_count": 10,
   "id": "9242353c",
   "metadata": {},
   "outputs": [
    {
     "name": "stdout",
     "output_type": "stream",
     "text": [
      "      Praveen       \n"
     ]
    }
   ],
   "source": [
    "str = \"Praveen\"\n",
    "x = str.center(20) # Gives length of string as 20\n",
    "print(x)"
   ]
  },
  {
   "cell_type": "markdown",
   "id": "b980e8ab",
   "metadata": {},
   "source": [
    "## Search Operation"
   ]
  },
  {
   "cell_type": "code",
   "execution_count": 11,
   "id": "5432b046",
   "metadata": {},
   "outputs": [
    {
     "name": "stdout",
     "output_type": "stream",
     "text": [
      "8\n"
     ]
    }
   ],
   "source": [
    "# find() - Returns the lowest index of the substring if found \n",
    "x=\"praveen suryadevara\"\n",
    "print(x.find(\"suryadevara\"))"
   ]
  },
  {
   "cell_type": "markdown",
   "id": "edbf733b",
   "metadata": {},
   "source": [
    "## Endswith Operation"
   ]
  },
  {
   "cell_type": "code",
   "execution_count": 12,
   "id": "ac20688f",
   "metadata": {},
   "outputs": [
    {
     "name": "stdout",
     "output_type": "stream",
     "text": [
      "False\n"
     ]
    }
   ],
   "source": [
    "# Checking if the String Ends with T\n",
    "a=\"venkata naga sai praveen\"\n",
    "print(a.endswith(\"t\"))"
   ]
  },
  {
   "cell_type": "markdown",
   "id": "a4c5c8d9",
   "metadata": {},
   "source": [
    "## Expandtab Operation"
   ]
  },
  {
   "cell_type": "code",
   "execution_count": 16,
   "id": "c6310ca4",
   "metadata": {},
   "outputs": [
    {
     "name": "stdout",
     "output_type": "stream",
     "text": [
      "praveen suryadevara\n"
     ]
    }
   ],
   "source": [
    "string = \"praveen\\tsuryadevara\"\n",
    "result = string.expandtabs(2)# gives amount of space to be substituted with the \"\\t\" symbol in the string\n",
    "print(result) "
   ]
  },
  {
   "cell_type": "markdown",
   "id": "6db61253",
   "metadata": {},
   "source": [
    "## Join Operation"
   ]
  },
  {
   "cell_type": "code",
   "execution_count": 17,
   "id": "38d31741",
   "metadata": {},
   "outputs": [
    {
     "name": "stdout",
     "output_type": "stream",
     "text": [
      "praveen-suryadevara\n"
     ]
    }
   ],
   "source": [
    "separator = \"-\"\n",
    "list = [\"praveen\", \"suryadevara\"]\n",
    "result = separator.join(list) # joins a concatenated String with separator\n",
    "print(result)"
   ]
  },
  {
   "cell_type": "markdown",
   "id": "60c1d584",
   "metadata": {},
   "source": [
    "## Splitline Operation"
   ]
  },
  {
   "cell_type": "code",
   "execution_count": 18,
   "id": "19fd2919",
   "metadata": {},
   "outputs": [
    {
     "name": "stdout",
     "output_type": "stream",
     "text": [
      "['praveen', 'suryadevara']\n"
     ]
    }
   ],
   "source": [
    "str = \"praveen\\nsuryadevara\"\n",
    "result = str.splitlines()#Split the lines at line boundaries\n",
    "print(result) "
   ]
  },
  {
   "cell_type": "markdown",
   "id": "cce4d975",
   "metadata": {},
   "source": [
    "## Regex Functions"
   ]
  },
  {
   "cell_type": "code",
   "execution_count": 22,
   "id": "8d22e068",
   "metadata": {},
   "outputs": [],
   "source": [
    "#Importing Regex module\n",
    "import re"
   ]
  },
  {
   "cell_type": "markdown",
   "id": "a0264896",
   "metadata": {},
   "source": [
    "## Finding Function"
   ]
  },
  {
   "cell_type": "code",
   "execution_count": 23,
   "id": "f543fd39",
   "metadata": {},
   "outputs": [
    {
     "name": "stdout",
     "output_type": "stream",
     "text": [
      "['p']\n"
     ]
    }
   ],
   "source": [
    "str = \"praveen suryadevara\" \n",
    "x = re.findall(\"p\", str) # Printing list of all the matches\n",
    "print(x)"
   ]
  },
  {
   "cell_type": "markdown",
   "id": "eb8d11fe",
   "metadata": {},
   "source": [
    "## Searching Function"
   ]
  },
  {
   "cell_type": "code",
   "execution_count": 24,
   "id": "456fa41b",
   "metadata": {},
   "outputs": [
    {
     "name": "stdout",
     "output_type": "stream",
     "text": [
      "<re.Match object; span=(8, 19), match='suryadevara'>\n"
     ]
    }
   ],
   "source": [
    "str = \"Praveen suryadevara\"\n",
    "x = re.search(\"suryadevara\", str) #Searching for based in the string\n",
    "print(x)"
   ]
  },
  {
   "cell_type": "markdown",
   "id": "7c63a1a3",
   "metadata": {},
   "source": [
    "## Split Function"
   ]
  },
  {
   "cell_type": "code",
   "execution_count": 26,
   "id": "69a471fd",
   "metadata": {},
   "outputs": [
    {
     "name": "stdout",
     "output_type": "stream",
     "text": [
      "['venkata', 'naga', 'sai', 'parveen', 'suryadevara']\n"
     ]
    }
   ],
   "source": [
    "str = \"venkata naga sai parveen suryadevara\"\n",
    "x = re.split(\"\\s\", str) # Split String at White Space.\n",
    "print(x)"
   ]
  },
  {
   "cell_type": "markdown",
   "id": "8363c68b",
   "metadata": {},
   "source": [
    "## Sub Function"
   ]
  },
  {
   "cell_type": "code",
   "execution_count": 27,
   "id": "9cdd8306",
   "metadata": {},
   "outputs": [
    {
     "name": "stdout",
     "output_type": "stream",
     "text": [
      "venkata*naga*sai*parveen*suryadevara\n"
     ]
    }
   ],
   "source": [
    "str = \"venkata naga sai parveen suryadevara\"\n",
    "x = re.sub(\"\\s\", \"*\", str) #Replace Spaces With *\n",
    "print(x)"
   ]
  },
  {
   "cell_type": "markdown",
   "id": "0616a988",
   "metadata": {},
   "source": [
    "## Extraction of Letters with Metacharacter []"
   ]
  },
  {
   "cell_type": "code",
   "execution_count": 28,
   "id": "acc57601",
   "metadata": {},
   "outputs": [
    {
     "name": "stdout",
     "output_type": "stream",
     "text": [
      "['e', 'n', 'k', 'a', 'a', 'n', 'a', 'g', 'a', 'a', 'i', 'a', 'e', 'e', 'n', 'a', 'd', 'e', 'a', 'a']\n"
     ]
    }
   ],
   "source": [
    "str = \"venkata naga sai parveen suryadevara\"\n",
    "#Find all lower case characters alphabetically between \"a\" and \"n\"\n",
    "x = re.findall(\"[a-n]\", str)\n",
    "print(x)"
   ]
  },
  {
   "cell_type": "markdown",
   "id": "348ab8b8",
   "metadata": {},
   "source": [
    "## Extraction of Digits with Metacharacter []"
   ]
  },
  {
   "cell_type": "code",
   "execution_count": 29,
   "id": "167f7dc0",
   "metadata": {},
   "outputs": [
    {
     "name": "stdout",
     "output_type": "stream",
     "text": [
      "['2', '3', '0']\n"
     ]
    }
   ],
   "source": [
    "str = \"Text Based Analysis class at 2:30\"\n",
    "#Find all digit characters:\n",
    "x = re.findall(\"\\d\", str)\n",
    "print(x)"
   ]
  }
 ],
 "metadata": {
  "kernelspec": {
   "display_name": "Python 3 (ipykernel)",
   "language": "python",
   "name": "python3"
  },
  "language_info": {
   "codemirror_mode": {
    "name": "ipython",
    "version": 3
   },
   "file_extension": ".py",
   "mimetype": "text/x-python",
   "name": "python",
   "nbconvert_exporter": "python",
   "pygments_lexer": "ipython3",
   "version": "3.11.5"
  }
 },
 "nbformat": 4,
 "nbformat_minor": 5
}
